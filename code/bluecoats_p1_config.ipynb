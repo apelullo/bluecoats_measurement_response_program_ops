{
 "cells": [
  {
   "cell_type": "markdown",
   "id": "3555cb52",
   "metadata": {},
   "source": [
    "# Bluecoats Phase 1 Config File\n",
    "* Organization-level configuration; modify according to specific organization-level goals and stakeholder requirements\n",
    "* Values in this file are largely constants and should not change often or significanctly"
   ]
  },
  {
   "cell_type": "markdown",
   "id": "3611cc7a",
   "metadata": {},
   "source": [
    "## Organization"
   ]
  },
  {
   "cell_type": "code",
   "execution_count": 1,
   "id": "c0e2ee18",
   "metadata": {},
   "outputs": [],
   "source": [
    "ORG_ID = 'UPHS'\n",
    "ORG_NAME = 'University of Pennsylvania Health System'\n",
    "ORG_TZ = 'US/Eastern'"
   ]
  },
  {
   "cell_type": "markdown",
   "id": "883fe94c",
   "metadata": {},
   "source": [
    "## Paths"
   ]
  },
  {
   "cell_type": "code",
   "execution_count": null,
   "id": "8049c2c4",
   "metadata": {},
   "outputs": [],
   "source": [
    "PROJECT_PATH = '/' # replace as needed\n",
    "\n",
    "DATA_PATH = PROJECT_PATH + 'data/'\n",
    "OUTPUT_PATH = PROJECT_PATH + 'output/'\n",
    "LOG_PATH = PROJECT_PATH + 'logs/'\n",
    "ARCHIVE_PATH = PROJECT_PATH + 'archive/'\n",
    "\n",
    "RAW_DATA_PATH = DATA_PATH + 'raw_data/'\n",
    "RAW_SCORE_PATH = RAW_DATA_PATH + 'score_survey/'\n",
    "RAW_ENGAGEMENT_PATH = RAW_DATA_PATH + 'engagement/'\n",
    "RAW_BUDGETING_PATH = RAW_DATA_PATH + 'budgeting/'\n",
    "RAW_SUPPLIES_PATH = RAW_DATA_PATH + 'supplies/'\n",
    "RAW_HTB_PATH = RAW_DATA_PATH + 'htb/'\n",
    "\n",
    "MASTER_DATA_PATH = DATA_PATH + 'master_data/'\n",
    "MASTER_SCORE_PATH = MASTER_DATA_PATH + 'score_survey/'\n",
    "MASTER_ENGAGEMENT_PATH = MASTER_DATA_PATH + 'engagement/'\n",
    "MASTER_BUDGETING_PATH = MASTER_DATA_PATH + 'budgeting/'\n",
    "MASTER_SUPPLIES_PATH = MASTER_DATA_PATH + 'supplies/'\n",
    "MASTER_HTB_PATH = MASTER_DATA_PATH + 'htb/'\n",
    "\n",
    "FIGURE_PATH = OUTPUT_PATH + 'figures/'\n",
    "CHART_PATH = OUTPUT_PATH + 'charts/'\n",
    "REPORT_PATH = OUTPUT_PATH + 'reports/'"
   ]
  },
  {
   "cell_type": "markdown",
   "id": "bf61aae5-2af6-4ca2-a9f1-64b8d14c8255",
   "metadata": {},
   "source": [
    "## Visualization"
   ]
  },
  {
   "cell_type": "code",
   "execution_count": null,
   "id": "a3474420",
   "metadata": {},
   "outputs": [],
   "source": [
    "# Flow-based figures\n",
    "NODE_ALPHA = '0.8'\n",
    "LINK_ALPHA = '0.2'\n",
    "DEFAULT_ALPHA = '0.5'\n",
    "\n",
    "# Common colors\n",
    "RGB_GREY = '192,192,192'\n",
    "RGB_RED = '255,0,0'\n",
    "RGB_GREEN = '0,255,0'\n",
    "RGB_BLUE = '0,0,255'\n",
    "RGB_ORANGE = '255,128,0'\n",
    "RGB_MAGENTA = '204,0,102'\n",
    "\n",
    "# Default save params\n",
    "SAVE_DPI = 500"
   ]
  },
  {
   "cell_type": "code",
   "execution_count": null,
   "id": "f75c3496",
   "metadata": {},
   "outputs": [],
   "source": [
    "# Text color and emphasis\n",
    "class color:\n",
    "   PURPLE = '\\033[95m'\n",
    "   CYAN = '\\033[96m'\n",
    "   DARKCYAN = '\\033[36m'\n",
    "   BLUE = '\\033[94m'\n",
    "   GREEN = '\\033[92m'\n",
    "   YELLOW = '\\033[93m'\n",
    "   RED = '\\033[91m'\n",
    "   BOLD = '\\033[1m'\n",
    "   UNDERLINE = '\\033[4m'\n",
    "   END = '\\033[0m'"
   ]
  },
  {
   "cell_type": "markdown",
   "id": "8c7b7a4e-5cd1-49ab-8c3e-4aedbcd650b8",
   "metadata": {},
   "source": [
    "## Project Specific"
   ]
  },
  {
   "cell_type": "markdown",
   "id": "9db52de3-14c2-4516-bab0-810ca6fc7d53",
   "metadata": {},
   "source": [
    "### Supply Room - Dedicated Staff Position"
   ]
  },
  {
   "cell_type": "code",
   "execution_count": null,
   "id": "9df2ba75",
   "metadata": {},
   "outputs": [],
   "source": [
    "SUPPLY_STAFF_ID = '159215' "
   ]
  },
  {
   "cell_type": "code",
   "execution_count": null,
   "id": "0b26ef94",
   "metadata": {},
   "outputs": [],
   "source": []
  },
  {
   "cell_type": "code",
   "execution_count": null,
   "id": "55b9956a",
   "metadata": {},
   "outputs": [],
   "source": []
  },
  {
   "cell_type": "code",
   "execution_count": null,
   "id": "952e52db",
   "metadata": {},
   "outputs": [],
   "source": []
  },
  {
   "cell_type": "code",
   "execution_count": null,
   "id": "c319551b",
   "metadata": {},
   "outputs": [],
   "source": []
  },
  {
   "cell_type": "code",
   "execution_count": null,
   "id": "65cbd40f",
   "metadata": {},
   "outputs": [],
   "source": []
  },
  {
   "cell_type": "code",
   "execution_count": null,
   "id": "df6838ce",
   "metadata": {},
   "outputs": [],
   "source": []
  },
  {
   "cell_type": "code",
   "execution_count": null,
   "id": "2a2ea8f9",
   "metadata": {},
   "outputs": [],
   "source": []
  },
  {
   "cell_type": "code",
   "execution_count": null,
   "id": "8c53a8d7",
   "metadata": {},
   "outputs": [],
   "source": []
  }
 ],
 "metadata": {
  "kernelspec": {
   "display_name": "Python [conda env:base] *",
   "language": "python",
   "name": "conda-base-py"
  },
  "language_info": {
   "codemirror_mode": {
    "name": "ipython",
    "version": 3
   },
   "file_extension": ".py",
   "mimetype": "text/x-python",
   "name": "python",
   "nbconvert_exporter": "python",
   "pygments_lexer": "ipython3",
   "version": "3.11.11"
  }
 },
 "nbformat": 4,
 "nbformat_minor": 5
}
