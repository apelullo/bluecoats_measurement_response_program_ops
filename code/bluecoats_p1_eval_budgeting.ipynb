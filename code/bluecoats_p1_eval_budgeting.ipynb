{
 "cells": [
  {
   "cell_type": "markdown",
   "id": "cf62550b",
   "metadata": {},
   "source": [
    "# Bluecoats Phase 1: Program Evaluation - Project Selection\n",
    "### Budgeting exercise and selection behavior\n",
    "#### Question: Is the budgeting exercise an effective and well-recieved method of selecting projects and, if so, do clear and dominant choices emerge?\n",
    "* Yes, this exercise was simple to execute and effective in identifying projects to begin developing.\n",
    "\n",
    "\n",
    "\n",
    "* Budgeting exercise allowing team-driven selection of local issues to resolve"
   ]
  },
  {
   "cell_type": "code",
   "execution_count": 1,
   "id": "4c5720ec",
   "metadata": {},
   "outputs": [],
   "source": [
    "# Modules\n",
    "from bluecoats_p1_config import *\n",
    "\n",
    "import pandas as pd\n",
    "import numpy as np\n",
    "from scipy import stats\n",
    "\n",
    "import re\n",
    "import copy\n",
    "import math\n",
    "import random\n",
    "import datetime\n",
    "from collections import defaultdict\n",
    "\n",
    "import glob\n",
    "import os\n",
    "\n",
    "import matplotlib.pyplot as plt\n",
    "import matplotlib.dates as mdates\n",
    "import seaborn as sns; \n",
    "sns.set()\n",
    "\n",
    "%matplotlib inline\n",
    "\n",
    "# Pandas view options\n",
    "pd.set_option('display.max_columns', 100)\n",
    "pd.set_option('display.max_rows', 200)\n",
    "pd.set_option('display.precision', 4)\n",
    "\n",
    "# Jupyter display options\n",
    "from IPython.display import display, HTML\n",
    "display(HTML(\"<style>.container { width:95% !important; }</style>\"))\n",
    "display(HTML(\"<style>.output_result { max-width:95% !important; }</style>\"))"
   ]
  },
  {
   "cell_type": "markdown",
   "id": "a840787e",
   "metadata": {},
   "source": [
    "# Program Parameters"
   ]
  },
  {
   "cell_type": "markdown",
   "id": "752e6e8b-35bf-4d25-95f6-193d6ac936b7",
   "metadata": {},
   "source": [
    "## Constants"
   ]
  },
  {
   "cell_type": "code",
   "execution_count": null,
   "id": "b0c7901c-77c0-4523-9c9a-9a9751de776d",
   "metadata": {},
   "outputs": [],
   "source": []
  },
  {
   "cell_type": "code",
   "execution_count": null,
   "id": "b987b66a",
   "metadata": {},
   "outputs": [],
   "source": []
  },
  {
   "cell_type": "markdown",
   "id": "3d34a38c",
   "metadata": {},
   "source": [
    "# Read Data"
   ]
  },
  {
   "cell_type": "code",
   "execution_count": 3,
   "id": "afb938f0",
   "metadata": {},
   "outputs": [],
   "source": [
    "budget = pd.read_csv(RAW_DATA_PATH + 'bc_budgeting_final_20221031.csv', header=None)\n",
    "budget_headers = budget.iloc[:2].copy()\n",
    "budget_data = budget.iloc[3:].copy().reset_index(drop=True)"
   ]
  },
  {
   "cell_type": "code",
   "execution_count": 4,
   "id": "1b94e352",
   "metadata": {},
   "outputs": [],
   "source": [
    "# Clean headers\n",
    "q_ids = budget_headers.iloc[0].str.lower().str.strip().str.replace('_1','',1).to_list()[2:]\n",
    "q_labels_long = budget_headers.iloc[1].str.lower().str.strip().to_list()[2:]\n",
    "q_labels_short = ['crossrole_comradery','human_needs','positive_outcomes','emotional_support','prof_development',\n",
    "                  'waiting_room','crossunit_efficiency','other','other_content','additional_notes','name','role']\n",
    "\n",
    "q_dict_long = dict(zip(q_ids,q_labels_long))\n",
    "q_dict_short = dict(zip(q_ids,q_labels_short))\n",
    "use_cols = ['start_date','end_date'] + [idx+'_'+label for idx,label in zip(q_ids,q_labels_short)]\n",
    "budget_data.columns = use_cols\n",
    "\n",
    "# Clean columns\n",
    "date_cols = budget_data.columns[:2]\n",
    "num_cols = budget_data.columns[2:10]\n",
    "str_cols = budget_data.columns[10:]\n",
    "\n",
    "fill_dict = {col:0 for col in num_cols}\n",
    "fill_dict.update({col:'' for col in str_cols})\n",
    "budget_data = budget_data.fillna(fill_dict)\n",
    "\n",
    "budget_data.loc[:,date_cols] = budget_data[date_cols].apply(pd.to_datetime)\n",
    "type_dict = {col:'float' for col in num_cols}\n",
    "type_dict.update({col:'str' for col in str_cols})\n",
    "budget_data = budget_data.astype(type_dict)"
   ]
  },
  {
   "cell_type": "code",
   "execution_count": 47,
   "id": "5a0403a1",
   "metadata": {},
   "outputs": [
    {
     "name": "stdout",
     "output_type": "stream",
     "text": [
      "128\n",
      "14\n"
     ]
    },
    {
     "data": {
      "text/html": [
       "<div>\n",
       "<style scoped>\n",
       "    .dataframe tbody tr th:only-of-type {\n",
       "        vertical-align: middle;\n",
       "    }\n",
       "\n",
       "    .dataframe tbody tr th {\n",
       "        vertical-align: top;\n",
       "    }\n",
       "\n",
       "    .dataframe thead th {\n",
       "        text-align: right;\n",
       "    }\n",
       "</style>\n",
       "<table border=\"1\" class=\"dataframe\">\n",
       "  <thead>\n",
       "    <tr style=\"text-align: right;\">\n",
       "      <th></th>\n",
       "      <th>start_date</th>\n",
       "      <th>end_date</th>\n",
       "      <th>q1_1_crossrole_comradery</th>\n",
       "      <th>q1_2_human_needs</th>\n",
       "      <th>q1_3_positive_outcomes</th>\n",
       "      <th>q1_4_emotional_support</th>\n",
       "      <th>q1_5_prof_development</th>\n",
       "      <th>q1_6_waiting_room</th>\n",
       "      <th>q1_7_crossunit_efficiency</th>\n",
       "      <th>q1_8_other</th>\n",
       "      <th>q2_other_content</th>\n",
       "      <th>q3_additional_notes</th>\n",
       "      <th>q4_name</th>\n",
       "      <th>q5_role</th>\n",
       "    </tr>\n",
       "  </thead>\n",
       "  <tbody>\n",
       "    <tr>\n",
       "      <th>0</th>\n",
       "      <td>2022-10-05 11:33:00</td>\n",
       "      <td>2022-10-05 11:34:00</td>\n",
       "      <td>0.0</td>\n",
       "      <td>50.0</td>\n",
       "      <td>0.0</td>\n",
       "      <td>0.0</td>\n",
       "      <td>10.0</td>\n",
       "      <td>0.0</td>\n",
       "      <td>0.0</td>\n",
       "      <td>40.0</td>\n",
       "      <td>Financial recognition, retention bonuses, tuit...</td>\n",
       "      <td></td>\n",
       "      <td></td>\n",
       "      <td></td>\n",
       "    </tr>\n",
       "    <tr>\n",
       "      <th>1</th>\n",
       "      <td>2022-10-05 11:34:00</td>\n",
       "      <td>2022-10-05 11:35:00</td>\n",
       "      <td>10.0</td>\n",
       "      <td>10.0</td>\n",
       "      <td>10.0</td>\n",
       "      <td>10.0</td>\n",
       "      <td>50.0</td>\n",
       "      <td>5.0</td>\n",
       "      <td>5.0</td>\n",
       "      <td>0.0</td>\n",
       "      <td></td>\n",
       "      <td></td>\n",
       "      <td></td>\n",
       "      <td></td>\n",
       "    </tr>\n",
       "    <tr>\n",
       "      <th>2</th>\n",
       "      <td>2022-10-05 11:35:00</td>\n",
       "      <td>2022-10-05 11:35:00</td>\n",
       "      <td>0.0</td>\n",
       "      <td>20.0</td>\n",
       "      <td>0.0</td>\n",
       "      <td>30.0</td>\n",
       "      <td>0.0</td>\n",
       "      <td>30.0</td>\n",
       "      <td>20.0</td>\n",
       "      <td>0.0</td>\n",
       "      <td></td>\n",
       "      <td></td>\n",
       "      <td></td>\n",
       "      <td></td>\n",
       "    </tr>\n",
       "    <tr>\n",
       "      <th>3</th>\n",
       "      <td>2022-10-05 11:36:00</td>\n",
       "      <td>2022-10-05 11:37:00</td>\n",
       "      <td>10.0</td>\n",
       "      <td>10.0</td>\n",
       "      <td>10.0</td>\n",
       "      <td>20.0</td>\n",
       "      <td>10.0</td>\n",
       "      <td>5.0</td>\n",
       "      <td>5.0</td>\n",
       "      <td>30.0</td>\n",
       "      <td>being able to come together and shift in and o...</td>\n",
       "      <td></td>\n",
       "      <td></td>\n",
       "      <td></td>\n",
       "    </tr>\n",
       "    <tr>\n",
       "      <th>4</th>\n",
       "      <td>2022-10-05 11:37:00</td>\n",
       "      <td>2022-10-05 11:38:00</td>\n",
       "      <td>10.0</td>\n",
       "      <td>20.0</td>\n",
       "      <td>50.0</td>\n",
       "      <td>10.0</td>\n",
       "      <td>10.0</td>\n",
       "      <td>0.0</td>\n",
       "      <td>0.0</td>\n",
       "      <td>0.0</td>\n",
       "      <td></td>\n",
       "      <td></td>\n",
       "      <td></td>\n",
       "      <td></td>\n",
       "    </tr>\n",
       "  </tbody>\n",
       "</table>\n",
       "</div>"
      ],
      "text/plain": [
       "            start_date             end_date  q1_1_crossrole_comradery  \\\n",
       "0  2022-10-05 11:33:00  2022-10-05 11:34:00                       0.0   \n",
       "1  2022-10-05 11:34:00  2022-10-05 11:35:00                      10.0   \n",
       "2  2022-10-05 11:35:00  2022-10-05 11:35:00                       0.0   \n",
       "3  2022-10-05 11:36:00  2022-10-05 11:37:00                      10.0   \n",
       "4  2022-10-05 11:37:00  2022-10-05 11:38:00                      10.0   \n",
       "\n",
       "   q1_2_human_needs  q1_3_positive_outcomes  q1_4_emotional_support  \\\n",
       "0              50.0                     0.0                     0.0   \n",
       "1              10.0                    10.0                    10.0   \n",
       "2              20.0                     0.0                    30.0   \n",
       "3              10.0                    10.0                    20.0   \n",
       "4              20.0                    50.0                    10.0   \n",
       "\n",
       "   q1_5_prof_development  q1_6_waiting_room  q1_7_crossunit_efficiency  \\\n",
       "0                   10.0                0.0                        0.0   \n",
       "1                   50.0                5.0                        5.0   \n",
       "2                    0.0               30.0                       20.0   \n",
       "3                   10.0                5.0                        5.0   \n",
       "4                   10.0                0.0                        0.0   \n",
       "\n",
       "   q1_8_other                                   q2_other_content  \\\n",
       "0        40.0  Financial recognition, retention bonuses, tuit...   \n",
       "1         0.0                                                      \n",
       "2         0.0                                                      \n",
       "3        30.0  being able to come together and shift in and o...   \n",
       "4         0.0                                                      \n",
       "\n",
       "  q3_additional_notes q4_name q5_role  \n",
       "0                                      \n",
       "1                                      \n",
       "2                                      \n",
       "3                                      \n",
       "4                                      "
      ]
     },
     "execution_count": 47,
     "metadata": {},
     "output_type": "execute_result"
    }
   ],
   "source": [
    "print(len(budget_data))\n",
    "print(len(budget_data.columns))\n",
    "budget_data.head()"
   ]
  },
  {
   "cell_type": "markdown",
   "id": "40ac7283",
   "metadata": {},
   "source": [
    "# Data Analysis"
   ]
  },
  {
   "cell_type": "code",
   "execution_count": 21,
   "id": "c1efaf29",
   "metadata": {},
   "outputs": [
    {
     "name": "stdout",
     "output_type": "stream",
     "text": [
      "0 days 00:01:16.875000\n",
      "0 days 00:01:00\n"
     ]
    }
   ],
   "source": [
    "print((budget_data['end_date'] - budget_data['start_date']).mean())\n",
    "print((budget_data['end_date'] - budget_data['start_date']).median())"
   ]
  },
  {
   "cell_type": "code",
   "execution_count": 53,
   "id": "eca3c74f",
   "metadata": {},
   "outputs": [
    {
     "data": {
      "text/html": [
       "<div>\n",
       "<style scoped>\n",
       "    .dataframe tbody tr th:only-of-type {\n",
       "        vertical-align: middle;\n",
       "    }\n",
       "\n",
       "    .dataframe tbody tr th {\n",
       "        vertical-align: top;\n",
       "    }\n",
       "\n",
       "    .dataframe thead th {\n",
       "        text-align: right;\n",
       "    }\n",
       "</style>\n",
       "<table border=\"1\" class=\"dataframe\">\n",
       "  <thead>\n",
       "    <tr style=\"text-align: right;\">\n",
       "      <th></th>\n",
       "      <th>total_alloc</th>\n",
       "      <th>mean_alloc</th>\n",
       "      <th>median_alloc</th>\n",
       "      <th>std_dev_alloc</th>\n",
       "      <th>num_nonzero_alloc</th>\n",
       "      <th>pct_nonzero_alloc</th>\n",
       "      <th>mean_nonzero_alloc</th>\n",
       "      <th>median_nonzero_alloc</th>\n",
       "      <th>std_dev_nonzero_alloc</th>\n",
       "    </tr>\n",
       "  </thead>\n",
       "  <tbody>\n",
       "    <tr>\n",
       "      <th>q1_1_crossrole_comradery</th>\n",
       "      <td>1762.5</td>\n",
       "      <td>13.7695</td>\n",
       "      <td>10.0</td>\n",
       "      <td>17.1169</td>\n",
       "      <td>72</td>\n",
       "      <td>0.5625</td>\n",
       "      <td>24.4792</td>\n",
       "      <td>20.0</td>\n",
       "      <td>16.0693</td>\n",
       "    </tr>\n",
       "    <tr>\n",
       "      <th>q1_2_human_needs</th>\n",
       "      <td>3423.0</td>\n",
       "      <td>26.7422</td>\n",
       "      <td>22.5</td>\n",
       "      <td>25.1062</td>\n",
       "      <td>99</td>\n",
       "      <td>0.7734</td>\n",
       "      <td>34.5758</td>\n",
       "      <td>30.0</td>\n",
       "      <td>23.3072</td>\n",
       "    </tr>\n",
       "    <tr>\n",
       "      <th>q1_3_positive_outcomes</th>\n",
       "      <td>1231.0</td>\n",
       "      <td>9.6172</td>\n",
       "      <td>0.0</td>\n",
       "      <td>13.1963</td>\n",
       "      <td>62</td>\n",
       "      <td>0.4844</td>\n",
       "      <td>19.8548</td>\n",
       "      <td>20.0</td>\n",
       "      <td>12.4885</td>\n",
       "    </tr>\n",
       "    <tr>\n",
       "      <th>q1_4_emotional_support</th>\n",
       "      <td>916.0</td>\n",
       "      <td>7.1562</td>\n",
       "      <td>0.0</td>\n",
       "      <td>10.6848</td>\n",
       "      <td>54</td>\n",
       "      <td>0.4219</td>\n",
       "      <td>16.9630</td>\n",
       "      <td>15.0</td>\n",
       "      <td>10.2017</td>\n",
       "    </tr>\n",
       "    <tr>\n",
       "      <th>q1_5_prof_development</th>\n",
       "      <td>1389.0</td>\n",
       "      <td>10.8516</td>\n",
       "      <td>4.5</td>\n",
       "      <td>14.1800</td>\n",
       "      <td>66</td>\n",
       "      <td>0.5156</td>\n",
       "      <td>21.0455</td>\n",
       "      <td>20.0</td>\n",
       "      <td>13.2298</td>\n",
       "    </tr>\n",
       "    <tr>\n",
       "      <th>q1_6_waiting_room</th>\n",
       "      <td>1331.0</td>\n",
       "      <td>10.3984</td>\n",
       "      <td>4.0</td>\n",
       "      <td>13.7075</td>\n",
       "      <td>66</td>\n",
       "      <td>0.5156</td>\n",
       "      <td>20.1667</td>\n",
       "      <td>20.0</td>\n",
       "      <td>12.9265</td>\n",
       "    </tr>\n",
       "    <tr>\n",
       "      <th>q1_7_crossunit_efficiency</th>\n",
       "      <td>1407.5</td>\n",
       "      <td>10.9961</td>\n",
       "      <td>5.0</td>\n",
       "      <td>13.7544</td>\n",
       "      <td>71</td>\n",
       "      <td>0.5547</td>\n",
       "      <td>19.8239</td>\n",
       "      <td>20.0</td>\n",
       "      <td>12.8736</td>\n",
       "    </tr>\n",
       "    <tr>\n",
       "      <th>q1_8_other</th>\n",
       "      <td>1240.0</td>\n",
       "      <td>9.6875</td>\n",
       "      <td>0.0</td>\n",
       "      <td>23.1288</td>\n",
       "      <td>28</td>\n",
       "      <td>0.2188</td>\n",
       "      <td>44.2857</td>\n",
       "      <td>30.0</td>\n",
       "      <td>30.4508</td>\n",
       "    </tr>\n",
       "  </tbody>\n",
       "</table>\n",
       "</div>"
      ],
      "text/plain": [
       "                           total_alloc  mean_alloc  median_alloc  \\\n",
       "q1_1_crossrole_comradery        1762.5     13.7695          10.0   \n",
       "q1_2_human_needs                3423.0     26.7422          22.5   \n",
       "q1_3_positive_outcomes          1231.0      9.6172           0.0   \n",
       "q1_4_emotional_support           916.0      7.1562           0.0   \n",
       "q1_5_prof_development           1389.0     10.8516           4.5   \n",
       "q1_6_waiting_room               1331.0     10.3984           4.0   \n",
       "q1_7_crossunit_efficiency       1407.5     10.9961           5.0   \n",
       "q1_8_other                      1240.0      9.6875           0.0   \n",
       "\n",
       "                           std_dev_alloc  num_nonzero_alloc  \\\n",
       "q1_1_crossrole_comradery         17.1169                 72   \n",
       "q1_2_human_needs                 25.1062                 99   \n",
       "q1_3_positive_outcomes           13.1963                 62   \n",
       "q1_4_emotional_support           10.6848                 54   \n",
       "q1_5_prof_development            14.1800                 66   \n",
       "q1_6_waiting_room                13.7075                 66   \n",
       "q1_7_crossunit_efficiency        13.7544                 71   \n",
       "q1_8_other                       23.1288                 28   \n",
       "\n",
       "                           pct_nonzero_alloc  mean_nonzero_alloc  \\\n",
       "q1_1_crossrole_comradery              0.5625             24.4792   \n",
       "q1_2_human_needs                      0.7734             34.5758   \n",
       "q1_3_positive_outcomes                0.4844             19.8548   \n",
       "q1_4_emotional_support                0.4219             16.9630   \n",
       "q1_5_prof_development                 0.5156             21.0455   \n",
       "q1_6_waiting_room                     0.5156             20.1667   \n",
       "q1_7_crossunit_efficiency             0.5547             19.8239   \n",
       "q1_8_other                            0.2188             44.2857   \n",
       "\n",
       "                           median_nonzero_alloc  std_dev_nonzero_alloc  \n",
       "q1_1_crossrole_comradery                   20.0                16.0693  \n",
       "q1_2_human_needs                           30.0                23.3072  \n",
       "q1_3_positive_outcomes                     20.0                12.4885  \n",
       "q1_4_emotional_support                     15.0                10.2017  \n",
       "q1_5_prof_development                      20.0                13.2298  \n",
       "q1_6_waiting_room                          20.0                12.9265  \n",
       "q1_7_crossunit_efficiency                  20.0                12.8736  \n",
       "q1_8_other                                 30.0                30.4508  "
      ]
     },
     "execution_count": 53,
     "metadata": {},
     "output_type": "execute_result"
    }
   ],
   "source": [
    "NUM_RESP = 128\n",
    "use_cols = ['total_alloc','mean_alloc','median_alloc','std_dev_alloc','num_nonzero_alloc','pct_nonzero_alloc',\n",
    "            'mean_nonzero_alloc','median_nonzero_alloc','std_dev_nonzero_alloc']\n",
    "budget_summary = pd.concat([budget_data[num_cols].sum(),\n",
    "                            budget_data[num_cols].mean(),\n",
    "                            budget_data[num_cols].median(),\n",
    "                            budget_data[num_cols].std(),\n",
    "                            budget_data[budget_data[num_cols]!= 0][num_cols].count(),\n",
    "                            budget_data[budget_data[num_cols]!= 0][num_cols].count()/NUM_RESP,\n",
    "                            budget_data[budget_data[num_cols]!= 0][num_cols].mean(),\n",
    "                            budget_data[budget_data[num_cols]!= 0][num_cols].median(),\n",
    "                            budget_data[budget_data[num_cols]!= 0][num_cols].std()],axis=1)\n",
    "budget_summary.columns = use_cols\n",
    "budget_summary"
   ]
  },
  {
   "cell_type": "code",
   "execution_count": 63,
   "id": "4650ed7e",
   "metadata": {},
   "outputs": [
    {
     "data": {
      "text/plain": [
       "4.046875"
      ]
     },
     "execution_count": 63,
     "metadata": {},
     "output_type": "execute_result"
    }
   ],
   "source": [
    "# Mean number of categories awarded points by each respondent\n",
    "budget_data[budget_data[num_cols]!= 0][num_cols].count(axis=1).mean()"
   ]
  },
  {
   "cell_type": "code",
   "execution_count": 62,
   "id": "ad2e576e",
   "metadata": {},
   "outputs": [
    {
     "data": {
      "text/plain": [
       "<matplotlib.axes._subplots.AxesSubplot at 0x11b39b2d0>"
      ]
     },
     "execution_count": 62,
     "metadata": {},
     "output_type": "execute_result"
    },
    {
     "data": {
      "image/png": "[encoded data removed]",
      "text/plain": [
       "<Figure size 432x288 with 1 Axes>"
      ]
     },
     "metadata": {
      "needs_background": "light"
     },
     "output_type": "display_data"
    }
   ],
   "source": [
    "# Historgram of number of categories awarded points by each respondent\n",
    "budget_data[budget_data[num_cols]!= 0][num_cols].count(axis=1).hist(bins=9)"
   ]
  },
  {
   "cell_type": "code",
   "execution_count": 190,
   "id": "3e16da0f",
   "metadata": {},
   "outputs": [
    {
     "data": {
      "text/plain": [
       "<matplotlib.legend.Legend at 0x125b43b10>"
      ]
     },
     "execution_count": 190,
     "metadata": {},
     "output_type": "execute_result"
    },
    {
     "data": {
      "image/png": "[encoded data removed]",
      "text/plain": [
       "<Figure size 1152x864 with 2 Axes>"
      ]
     },
     "metadata": {
      "needs_background": "light"
     },
     "output_type": "display_data"
    }
   ],
   "source": [
    "fig, ax = plt.subplots(figsize=(16,12))\n",
    "ax_twin = ax.twinx()\n",
    "xlabels = ['\\n'.join(item.split('_')[2:]).capitalize() for item in num_cols]\n",
    "width=0.2\n",
    "\n",
    "data = budget_summary.copy()\n",
    "total_plot = data['total_alloc'].plot(kind='bar', ax=ax, grid=True, color='steelblue', width=width, position=1)\n",
    "mean_plot = data['mean_nonzero_alloc'].plot(kind='bar', ax=ax_twin, grid=False, color='grey', width=width, position=0)\n",
    "resp_plot= data['num_nonzero_alloc'].plot(ax=ax_twin, grid=False, marker='o', color='crimson',)\n",
    "# IDEA: try line plot for avg. alloc with marker size for num respondents to avoid needing three y-axes/labels\n",
    "# can add special marker/label text for largest avg. alloc / capita and largest total, respectively\n",
    "# this is the way\n",
    "\n",
    "fig.suptitle('Budgeting Exercise Results\\nPresby ED', fontsize=18)\n",
    "\n",
    "ax.set_xlim(-1,len(num_cols))\n",
    "ax.set_xlabel('Budget Category', fontsize=14)\n",
    "ax.set_xticklabels(xlabels,rotation=0)\n",
    "\n",
    "ax.set_ylabel('Total Allocation', fontsize=14)\n",
    "ax_twin.set_ylabel('Respondents', fontsize=14)\n",
    "\n",
    "# Legend\n",
    "ax_handles = ax.get_legend_handles_labels()[0]\n",
    "ax_labels = ax.get_legend_handles_labels()[1]\n",
    "ax_twin_handles = ax_twin.get_legend_handles_labels()[0][::-1]\n",
    "ax_twin_labels = ax_twin.get_legend_handles_labels()[1][::-1]\n",
    "handles = ax_handles + ax_twin_handles\n",
    "labels = ax_labels + ax_twin_labels\n",
    "fig.legend(handles=handles[0],labels=['Total Allocation'],loc='upper left')\n",
    "fig.legend(handles=handles[1:],labels=['Avg Allocation per Respondent','Num Respondents'],loc='upper right')"
   ]
  },
  {
   "cell_type": "code",
   "execution_count": 192,
   "id": "70725c02",
   "metadata": {},
   "outputs": [
    {
     "data": {
      "text/plain": [
       "['build comradery across roles in the ed (ensure work of each role is valued',\n",
       " 'basic human needs',\n",
       " 'communicate more of the positive outcomes in the ed, not just the number of patients seen (might look like: positive feedback from patients, inpatient teams sharing news about ed patients post ed discharge',\n",
       " 'create space to honor the emotional impact of working in the ed (might look like: emotional debriefs, access to individualized mental health resources, venting rounds',\n",
       " 'create opportunities for mentoring & skills building within and across roles (might look like: clinical debriefs, de-escalation training, ultrasound certifications)',\n",
       " 'decrease stress in the waiting room (might look like: designated seating areas for different patient types, patient/family support services)',\n",
       " 'improve the working relationship between the ed and inpatient units (might look like: transport, tools for doc to doc communication, presby wide charge nurse gathering)',\n",
       " 'something else',\n",
       " 'if you awarded points to \"something else\" what is it?',\n",
       " 'anything else related to improving clinician wellbeing that you want us to know?',\n",
       " 'name (optional)',\n",
       " 'role (optional)']"
      ]
     },
     "execution_count": 192,
     "metadata": {},
     "output_type": "execute_result"
    }
   ],
   "source": [
    "q_labels_long"
   ]
  },
  {
   "cell_type": "code",
   "execution_count": null,
   "id": "0fe51970",
   "metadata": {},
   "outputs": [],
   "source": []
  },
  {
   "cell_type": "code",
   "execution_count": null,
   "id": "9135ac7f",
   "metadata": {},
   "outputs": [],
   "source": []
  },
  {
   "cell_type": "code",
   "execution_count": null,
   "id": "bae7d512",
   "metadata": {},
   "outputs": [],
   "source": []
  },
  {
   "cell_type": "code",
   "execution_count": null,
   "id": "8040ac79",
   "metadata": {},
   "outputs": [],
   "source": []
  },
  {
   "cell_type": "code",
   "execution_count": null,
   "id": "d3b4481e",
   "metadata": {},
   "outputs": [],
   "source": []
  },
  {
   "cell_type": "code",
   "execution_count": null,
   "id": "ab323dbb",
   "metadata": {},
   "outputs": [],
   "source": []
  },
  {
   "cell_type": "code",
   "execution_count": null,
   "id": "c4210635",
   "metadata": {},
   "outputs": [],
   "source": []
  },
  {
   "cell_type": "code",
   "execution_count": null,
   "id": "650de8c5",
   "metadata": {},
   "outputs": [],
   "source": []
  },
  {
   "cell_type": "markdown",
   "id": "e185a9d4",
   "metadata": {},
   "source": [
    "# Unused / Deprecated Code"
   ]
  },
  {
   "cell_type": "code",
   "execution_count": null,
   "id": "1db83bbf",
   "metadata": {},
   "outputs": [],
   "source": [
    "\"\"\"\n",
    "# For counting nonzero column values\n",
    "budget_data[num_cols].astype(bool).sum(axis=0)\n",
    "\n",
    "\"\"\""
   ]
  },
  {
   "cell_type": "code",
   "execution_count": null,
   "id": "9851afed",
   "metadata": {},
   "outputs": [],
   "source": []
  },
  {
   "cell_type": "code",
   "execution_count": null,
   "id": "65d7d467",
   "metadata": {},
   "outputs": [],
   "source": []
  }
 ],
 "metadata": {
  "kernelspec": {
   "display_name": "Python [conda env:base] *",
   "language": "python",
   "name": "conda-base-py"
  },
  "language_info": {
   "codemirror_mode": {
    "name": "ipython",
    "version": 3
   },
   "file_extension": ".py",
   "mimetype": "text/x-python",
   "name": "python",
   "nbconvert_exporter": "python",
   "pygments_lexer": "ipython3",
   "version": "3.11.8"
  }
 },
 "nbformat": 4,
 "nbformat_minor": 5
}
